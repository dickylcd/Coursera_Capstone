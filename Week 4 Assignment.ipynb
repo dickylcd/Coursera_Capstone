{
 "cells": [
  {
   "cell_type": "markdown",
   "metadata": {},
   "source": [
    "<h1>IBM Capstone Project</h1>"
   ]
  },
  {
   "cell_type": "markdown",
   "metadata": {},
   "source": [
    "<h2>The Battle of Neighborhoods - Exploring the possibility of start Oneline Food Delivery or Virtual Restaurant at Hong Kong</h2>"
   ]
  },
  {
   "cell_type": "markdown",
   "metadata": {},
   "source": [
    "<h3>1. Introduction and Background of the Business problem:</h3>"
   ]
  },
  {
   "cell_type": "markdown",
   "metadata": {},
   "source": [
    "Hong Kong is one of the most populous metropolitan area in the world, and a lot of top tier multinational companies are choice Hong Kong as APAC Headquarter.  As result of average office rents continue to rise in core business areas (e.g. Central district), those companies no long to consider to start their business at core business areas and relocated their office to areas with lower rents.\n",
    "\n",
    "Darning working day, many office workers in Hong Kong start discussing where to have their lunch and that provide huge opportunities for restaurants in office area.  However, those restaurants are always full during the lunch hours (12:00 to 14:00) and office workers usually spend 15 to 30 mins line up for table in restaurant or fast food shop.  Therefore, the need for food delivery industry (or Virtual Restaurant) raise.\n",
    "\n",
    "The food delivery industry in Asia market worth 53 billion US-dollars and which representing more than 50% of global demand.  Let's focus in Hong Kong, the consumer are well-known for demanding speed at lunch and which supported the online food delivery segment to reaching 615 million US-dollars for 2019, which grow 9.9% from 2018.\n",
    "\n",
    "We will concentrate on one most condencsd business district as sample: <b>Kowloon Bay</b>; and we will use data science technology to generate the best location of each areas for stackholders. "
   ]
  },
  {
   "cell_type": "markdown",
   "metadata": {},
   "source": [
    "<h4>Target Audience</h4>"
   ]
  },
  {
   "cell_type": "markdown",
   "metadata": {},
   "source": [
    "<ol>\n",
    "    <li>Business personnel who have interest to invest on Virtual Restaurant.  This analysis will focuse on large pools of office workers in Hong Kong during lunch hours.</li>\n",
    "    <li>Office worker who want to judge reasonable lunch/breakfast place for physical restaurant or switch to Virtaul Restaurant</li>\n",
    "</ol>"
   ]
  },
  {
   "cell_type": "markdown",
   "metadata": {},
   "source": [
    "<h3>2. Data Preparation</h3>"
   ]
  },
  {
   "cell_type": "markdown",
   "metadata": {},
   "source": [
    "Based on the defination of business problem, the following factores will help to address problem:\n",
    "<ul>\n",
    "    <li>The number of existing restaurants in the neighborhood</li>\n",
    "    <li>The distance of restaurant in the neightborhood</li>\n",
    "    <li>Distance of neighborhood from selected business district</li>\n",
    "</ul>\n",
    "We will use regularly spaced circular grids of selected business district at <b>Kowloon Bay</b> to define neighborhoods.\n",
    "<ul>\n",
    "    <li>Getting coordinates of selected business district by <b>Geopy Client</b></li>\n",
    "    <li>List out the number of restaurants in ervery neighborhood by <b>Foursquare API</b></li>\n",
    "    <li>Collect the Hong Kong district name, shape area and length by <b>esri China/HK API</b></li>\n",
    "</ul>"
   ]
  }
 ],
 "metadata": {
  "kernelspec": {
   "display_name": "Python 3.6",
   "language": "python",
   "name": "python3"
  },
  "language_info": {
   "codemirror_mode": {
    "name": "ipython",
    "version": 3
   },
   "file_extension": ".py",
   "mimetype": "text/x-python",
   "name": "python",
   "nbconvert_exporter": "python",
   "pygments_lexer": "ipython3",
   "version": "3.6.8"
  }
 },
 "nbformat": 4,
 "nbformat_minor": 1
}
